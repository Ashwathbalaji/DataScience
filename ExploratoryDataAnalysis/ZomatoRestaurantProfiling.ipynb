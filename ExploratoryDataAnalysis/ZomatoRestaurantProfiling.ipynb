{
 "cells": [
  {
   "cell_type": "markdown",
   "metadata": {},
   "source": [
    "### <h3> Zomato Restaurant Profiling"
   ]
  },
  {
   "cell_type": "markdown",
   "metadata": {},
   "source": [
    "<h4> Business Problem : </h4>\n",
    "\n",
    "- 'The Roastery Coffee House' is one of the restaurant that is associated with Zomato , the owner of the restaurant has approached Zomato requesting them to analyze the performance of the restaurant and provide some insights.\n",
    "- Zomato has given you some data and asked you to carry out the task.\n",
    "- The objective is to analyze the data and present the insights to the restaurant owner , it should be presented in the form of a static dashboard"
   ]
  },
  {
   "cell_type": "markdown",
   "metadata": {},
   "source": [
    "---"
   ]
  },
  {
   "cell_type": "markdown",
   "metadata": {},
   "source": [
    "Import Libraries"
   ]
  },
  {
   "cell_type": "code",
   "execution_count": 1,
   "metadata": {},
   "outputs": [],
   "source": [
    "import numpy as np\n",
    "import pandas as pd\n",
    "import warnings\n",
    "warnings.filterwarnings('ignore')\n",
    "\n",
    "import matplotlib.pyplot as plt\n",
    "import seaborn as sns"
   ]
  },
  {
   "cell_type": "markdown",
   "metadata": {},
   "source": [
    "---"
   ]
  },
  {
   "cell_type": "markdown",
   "metadata": {},
   "source": [
    "Read Data"
   ]
  },
  {
   "cell_type": "code",
   "execution_count": 2,
   "metadata": {},
   "outputs": [
    {
     "data": {
      "text/html": [
       "<div>\n",
       "<style scoped>\n",
       "    .dataframe tbody tr th:only-of-type {\n",
       "        vertical-align: middle;\n",
       "    }\n",
       "\n",
       "    .dataframe tbody tr th {\n",
       "        vertical-align: top;\n",
       "    }\n",
       "\n",
       "    .dataframe thead th {\n",
       "        text-align: right;\n",
       "    }\n",
       "</style>\n",
       "<table border=\"1\" class=\"dataframe\">\n",
       "  <thead>\n",
       "    <tr style=\"text-align: right;\">\n",
       "      <th></th>\n",
       "      <th>date</th>\n",
       "      <th>rating</th>\n",
       "      <th>res_id</th>\n",
       "      <th>res_name</th>\n",
       "      <th>rev_count</th>\n",
       "      <th>rev_id</th>\n",
       "      <th>rev_name</th>\n",
       "      <th>text</th>\n",
       "    </tr>\n",
       "  </thead>\n",
       "  <tbody>\n",
       "    <tr>\n",
       "      <th>0</th>\n",
       "      <td>2019-03-17 22:18:50</td>\n",
       "      <td>Rated 5.0</td>\n",
       "      <td>18716525</td>\n",
       "      <td>Aura Cafe</td>\n",
       "      <td>153 Reviews , 250 Followers</td>\n",
       "      <td>1226687</td>\n",
       "      <td>Hussain Abbas</td>\n",
       "      <td>RATED  Aura has to be my Beautiful Breakfast p...</td>\n",
       "    </tr>\n",
       "    <tr>\n",
       "      <th>1</th>\n",
       "      <td>2019-03-16 21:25:52</td>\n",
       "      <td>Rated 3.0</td>\n",
       "      <td>18716525</td>\n",
       "      <td>Aura Cafe</td>\n",
       "      <td>33 Reviews , 86 Followers</td>\n",
       "      <td>27912218</td>\n",
       "      <td>Sunakshi Gupta</td>\n",
       "      <td>RATED  A decent place to come over for chit ch...</td>\n",
       "    </tr>\n",
       "    <tr>\n",
       "      <th>2</th>\n",
       "      <td>2019-03-16 10:18:04</td>\n",
       "      <td>Rated 4.0</td>\n",
       "      <td>18716525</td>\n",
       "      <td>Aura Cafe</td>\n",
       "      <td>41 Reviews , 200 Followers</td>\n",
       "      <td>38270346</td>\n",
       "      <td>Bhavya Thamban</td>\n",
       "      <td>RATED  Everything is good about this place exc...</td>\n",
       "    </tr>\n",
       "    <tr>\n",
       "      <th>3</th>\n",
       "      <td>2019-03-14 09:13:01</td>\n",
       "      <td>Rated 5.0</td>\n",
       "      <td>18716525</td>\n",
       "      <td>Aura Cafe</td>\n",
       "      <td>49 Reviews , 500 Followers</td>\n",
       "      <td>39225454</td>\n",
       "      <td>Lovely Sharma</td>\n",
       "      <td>RATED  Aura Cafe has a good ambiance with outd...</td>\n",
       "    </tr>\n",
       "    <tr>\n",
       "      <th>4</th>\n",
       "      <td>2019-03-12 09:44:34</td>\n",
       "      <td>Rated 3.0</td>\n",
       "      <td>18716525</td>\n",
       "      <td>Aura Cafe</td>\n",
       "      <td>306 Reviews , 1974 Followers</td>\n",
       "      <td>553112</td>\n",
       "      <td>Raghav Peddi 'The Food Shaukeen'</td>\n",
       "      <td>NaN</td>\n",
       "    </tr>\n",
       "  </tbody>\n",
       "</table>\n",
       "</div>"
      ],
      "text/plain": [
       "                  date     rating    res_id   res_name  \\\n",
       "0  2019-03-17 22:18:50  Rated 5.0  18716525  Aura Cafe   \n",
       "1  2019-03-16 21:25:52  Rated 3.0  18716525  Aura Cafe   \n",
       "2  2019-03-16 10:18:04  Rated 4.0  18716525  Aura Cafe   \n",
       "3  2019-03-14 09:13:01  Rated 5.0  18716525  Aura Cafe   \n",
       "4  2019-03-12 09:44:34  Rated 3.0  18716525  Aura Cafe   \n",
       "\n",
       "                      rev_count    rev_id                          rev_name  \\\n",
       "0   153 Reviews , 250 Followers   1226687                     Hussain Abbas   \n",
       "1     33 Reviews , 86 Followers  27912218                    Sunakshi Gupta   \n",
       "2    41 Reviews , 200 Followers  38270346                    Bhavya Thamban   \n",
       "3    49 Reviews , 500 Followers  39225454                     Lovely Sharma   \n",
       "4  306 Reviews , 1974 Followers    553112  Raghav Peddi 'The Food Shaukeen'   \n",
       "\n",
       "                                                text  \n",
       "0  RATED  Aura has to be my Beautiful Breakfast p...  \n",
       "1  RATED  A decent place to come over for chit ch...  \n",
       "2  RATED  Everything is good about this place exc...  \n",
       "3  RATED  Aura Cafe has a good ambiance with outd...  \n",
       "4                                                NaN  "
      ]
     },
     "execution_count": 2,
     "metadata": {},
     "output_type": "execute_result"
    }
   ],
   "source": [
    "df = pd.read_csv('https://bit.ly/36FO9ii')\n",
    "df.head()"
   ]
  },
  {
   "cell_type": "markdown",
   "metadata": {},
   "source": [
    "---"
   ]
  },
  {
   "cell_type": "markdown",
   "metadata": {},
   "source": [
    "<h5> Extract only the data of  'The Roastery Coffee House' from the given data"
   ]
  },
  {
   "cell_type": "code",
   "execution_count": 3,
   "metadata": {},
   "outputs": [
    {
     "data": {
      "text/html": [
       "<div>\n",
       "<style scoped>\n",
       "    .dataframe tbody tr th:only-of-type {\n",
       "        vertical-align: middle;\n",
       "    }\n",
       "\n",
       "    .dataframe tbody tr th {\n",
       "        vertical-align: top;\n",
       "    }\n",
       "\n",
       "    .dataframe thead th {\n",
       "        text-align: right;\n",
       "    }\n",
       "</style>\n",
       "<table border=\"1\" class=\"dataframe\">\n",
       "  <thead>\n",
       "    <tr style=\"text-align: right;\">\n",
       "      <th></th>\n",
       "      <th>date</th>\n",
       "      <th>rating</th>\n",
       "      <th>res_id</th>\n",
       "      <th>res_name</th>\n",
       "      <th>rev_count</th>\n",
       "      <th>rev_id</th>\n",
       "      <th>rev_name</th>\n",
       "      <th>text</th>\n",
       "    </tr>\n",
       "  </thead>\n",
       "  <tbody>\n",
       "    <tr>\n",
       "      <th>1294</th>\n",
       "      <td>2019-03-16 08:57:44</td>\n",
       "      <td>Rated 5.0</td>\n",
       "      <td>18544039</td>\n",
       "      <td>The Roastery Coffee House</td>\n",
       "      <td>16 Reviews , 13 Followers</td>\n",
       "      <td>51111834</td>\n",
       "      <td>Mahmoud Shaik</td>\n",
       "      <td>RATED  It was my first time I was really hungr...</td>\n",
       "    </tr>\n",
       "    <tr>\n",
       "      <th>1295</th>\n",
       "      <td>2019-03-13 00:40:24</td>\n",
       "      <td>Rated 4.0</td>\n",
       "      <td>18544039</td>\n",
       "      <td>The Roastery Coffee House</td>\n",
       "      <td>73 Reviews , 355 Followers</td>\n",
       "      <td>37216070</td>\n",
       "      <td>Srobanti Majumdar</td>\n",
       "      <td>RATED  The ambience is good but the food is no...</td>\n",
       "    </tr>\n",
       "  </tbody>\n",
       "</table>\n",
       "</div>"
      ],
      "text/plain": [
       "                     date     rating    res_id                   res_name  \\\n",
       "1294  2019-03-16 08:57:44  Rated 5.0  18544039  The Roastery Coffee House   \n",
       "1295  2019-03-13 00:40:24  Rated 4.0  18544039  The Roastery Coffee House   \n",
       "\n",
       "                       rev_count    rev_id           rev_name  \\\n",
       "1294   16 Reviews , 13 Followers  51111834      Mahmoud Shaik   \n",
       "1295  73 Reviews , 355 Followers  37216070  Srobanti Majumdar   \n",
       "\n",
       "                                                   text  \n",
       "1294  RATED  It was my first time I was really hungr...  \n",
       "1295  RATED  The ambience is good but the food is no...  "
      ]
     },
     "execution_count": 3,
     "metadata": {},
     "output_type": "execute_result"
    }
   ],
   "source": [
    "df = df[df['res_name']=='The Roastery Coffee House']\n",
    "df.head(2)"
   ]
  },
  {
   "cell_type": "code",
   "execution_count": 4,
   "metadata": {},
   "outputs": [
    {
     "data": {
      "text/plain": [
       "(167, 8)"
      ]
     },
     "execution_count": 4,
     "metadata": {},
     "output_type": "execute_result"
    }
   ],
   "source": [
    "df.shape"
   ]
  },
  {
   "cell_type": "markdown",
   "metadata": {},
   "source": [
    "<h5> We now have 167 records and 8 columns"
   ]
  },
  {
   "cell_type": "markdown",
   "metadata": {},
   "source": [
    "<h5> Missing Ratio"
   ]
  },
  {
   "cell_type": "code",
   "execution_count": 5,
   "metadata": {},
   "outputs": [
    {
     "data": {
      "text/html": [
       "<div>\n",
       "<style scoped>\n",
       "    .dataframe tbody tr th:only-of-type {\n",
       "        vertical-align: middle;\n",
       "    }\n",
       "\n",
       "    .dataframe tbody tr th {\n",
       "        vertical-align: top;\n",
       "    }\n",
       "\n",
       "    .dataframe thead th {\n",
       "        text-align: right;\n",
       "    }\n",
       "</style>\n",
       "<table border=\"1\" class=\"dataframe\">\n",
       "  <thead>\n",
       "    <tr style=\"text-align: right;\">\n",
       "      <th></th>\n",
       "      <th>Missing Ratio</th>\n",
       "    </tr>\n",
       "  </thead>\n",
       "  <tbody>\n",
       "    <tr>\n",
       "      <th>text</th>\n",
       "      <td>55.688623</td>\n",
       "    </tr>\n",
       "    <tr>\n",
       "      <th>rev_name</th>\n",
       "      <td>43.712575</td>\n",
       "    </tr>\n",
       "    <tr>\n",
       "      <th>rev_count</th>\n",
       "      <td>43.712575</td>\n",
       "    </tr>\n",
       "    <tr>\n",
       "      <th>rev_id</th>\n",
       "      <td>0.000000</td>\n",
       "    </tr>\n",
       "    <tr>\n",
       "      <th>res_name</th>\n",
       "      <td>0.000000</td>\n",
       "    </tr>\n",
       "    <tr>\n",
       "      <th>res_id</th>\n",
       "      <td>0.000000</td>\n",
       "    </tr>\n",
       "    <tr>\n",
       "      <th>rating</th>\n",
       "      <td>0.000000</td>\n",
       "    </tr>\n",
       "    <tr>\n",
       "      <th>date</th>\n",
       "      <td>0.000000</td>\n",
       "    </tr>\n",
       "  </tbody>\n",
       "</table>\n",
       "</div>"
      ],
      "text/plain": [
       "           Missing Ratio\n",
       "text           55.688623\n",
       "rev_name       43.712575\n",
       "rev_count      43.712575\n",
       "rev_id          0.000000\n",
       "res_name        0.000000\n",
       "res_id          0.000000\n",
       "rating          0.000000\n",
       "date            0.000000"
      ]
     },
     "execution_count": 5,
     "metadata": {},
     "output_type": "execute_result"
    }
   ],
   "source": [
    "mr = (df.isna().sum()/len(df))*100\n",
    "pd.DataFrame(mr.sort_values(ascending=False) , columns=['Missing Ratio'])"
   ]
  },
  {
   "cell_type": "code",
   "execution_count": 6,
   "metadata": {},
   "outputs": [],
   "source": [
    "df.fillna('NA',inplace=True)"
   ]
  },
  {
   "cell_type": "markdown",
   "metadata": {},
   "source": [
    "---"
   ]
  },
  {
   "cell_type": "markdown",
   "metadata": {},
   "source": [
    "<h4> Exploratory Analysis"
   ]
  },
  {
   "cell_type": "markdown",
   "metadata": {},
   "source": [
    "---"
   ]
  },
  {
   "cell_type": "markdown",
   "metadata": {},
   "source": [
    "<h5> Granularity : </h5>\n",
    "\n",
    "  - Each record is a review and rating given to the restaurant by a particular user at a given time\n",
    "  \n",
    "<h5> Data Types : </h5>\n",
    "\n",
    "  - The types of data we have :\n",
    "      - Numaric , DateTime & Text \n",
    " \n",
    "<h5> Business Use-Case: </h5>\n",
    "\n",
    "  - The restaurant 'The Roastery Coffee House's profiling\n",
    "\n",
    "<h5> Types of Analysis that can be done : </h5>\n",
    "\n",
    "   - Distribution Analysis\n",
    "   - Text Analysis\n",
    "   - Trend Analysis"
   ]
  },
  {
   "cell_type": "markdown",
   "metadata": {},
   "source": [
    "---"
   ]
  },
  {
   "cell_type": "markdown",
   "metadata": {},
   "source": [
    "<h4> Data Cleaning"
   ]
  },
  {
   "cell_type": "markdown",
   "metadata": {},
   "source": [
    "---"
   ]
  },
  {
   "cell_type": "markdown",
   "metadata": {},
   "source": [
    "Extract Date values"
   ]
  },
  {
   "cell_type": "code",
   "execution_count": 7,
   "metadata": {},
   "outputs": [],
   "source": [
    "df['date'] = pd.to_datetime(df['date'])\n",
    "\n",
    "df['year'] = df['date'].dt.year\n",
    "df['month'] = df['date'].dt.month\n",
    "df['time'] = df['date'].dt.time"
   ]
  },
  {
   "cell_type": "markdown",
   "metadata": {},
   "source": [
    "Split rating"
   ]
  },
  {
   "cell_type": "code",
   "execution_count": 8,
   "metadata": {},
   "outputs": [],
   "source": [
    "df['rating'] = df['rating'].apply(lambda x: x.split(' ')[1])"
   ]
  },
  {
   "cell_type": "markdown",
   "metadata": {},
   "source": [
    "Split user-reviews and  user-followers"
   ]
  },
  {
   "cell_type": "code",
   "execution_count": 10,
   "metadata": {},
   "outputs": [],
   "source": [
    "df['user_reviews'] = df['rev_count'].apply(lambda x: x.split(',')[0])\n",
    "df['user_reviews'] = df['user_reviews'].apply(lambda x: x.split(' ')[0])"
   ]
  },
  {
   "cell_type": "code",
   "execution_count": 11,
   "metadata": {},
   "outputs": [],
   "source": [
    "df['user_followers']= df['rev_count'][df['rev_count']!='NA'].apply(lambda x: x.split(',')[1])\n",
    "df['user_followers'] = df['user_followers'].fillna('NA')"
   ]
  },
  {
   "cell_type": "code",
   "execution_count": 12,
   "metadata": {},
   "outputs": [],
   "source": [
    "df['user_followers'] = df['user_followers'][df['user_followers']!='NA'].apply(lambda x: x.split(' ')[1])"
   ]
  },
  {
   "cell_type": "code",
   "execution_count": 13,
   "metadata": {},
   "outputs": [],
   "source": [
    "df.drop('rev_count',1,inplace=True)"
   ]
  },
  {
   "cell_type": "code",
   "execution_count": 31,
   "metadata": {},
   "outputs": [
    {
     "data": {
      "text/html": [
       "<div>\n",
       "<style scoped>\n",
       "    .dataframe tbody tr th:only-of-type {\n",
       "        vertical-align: middle;\n",
       "    }\n",
       "\n",
       "    .dataframe tbody tr th {\n",
       "        vertical-align: top;\n",
       "    }\n",
       "\n",
       "    .dataframe thead th {\n",
       "        text-align: right;\n",
       "    }\n",
       "</style>\n",
       "<table border=\"1\" class=\"dataframe\">\n",
       "  <thead>\n",
       "    <tr style=\"text-align: right;\">\n",
       "      <th></th>\n",
       "      <th>date</th>\n",
       "      <th>rating</th>\n",
       "      <th>res_id</th>\n",
       "      <th>res_name</th>\n",
       "      <th>rev_id</th>\n",
       "      <th>rev_name</th>\n",
       "      <th>text</th>\n",
       "      <th>year</th>\n",
       "      <th>month</th>\n",
       "      <th>time</th>\n",
       "      <th>user_reviews</th>\n",
       "      <th>user_followers</th>\n",
       "    </tr>\n",
       "  </thead>\n",
       "  <tbody>\n",
       "    <tr>\n",
       "      <th>1294</th>\n",
       "      <td>2019-03-16 08:57:44</td>\n",
       "      <td>5.0</td>\n",
       "      <td>18544039</td>\n",
       "      <td>The Roastery Coffee House</td>\n",
       "      <td>51111834</td>\n",
       "      <td>Mahmoud Shaik</td>\n",
       "      <td>RATED  It was my first time I was really hungr...</td>\n",
       "      <td>2019</td>\n",
       "      <td>3</td>\n",
       "      <td>08:57:44</td>\n",
       "      <td>16</td>\n",
       "      <td>13</td>\n",
       "    </tr>\n",
       "    <tr>\n",
       "      <th>1295</th>\n",
       "      <td>2019-03-13 00:40:24</td>\n",
       "      <td>4.0</td>\n",
       "      <td>18544039</td>\n",
       "      <td>The Roastery Coffee House</td>\n",
       "      <td>37216070</td>\n",
       "      <td>Srobanti Majumdar</td>\n",
       "      <td>RATED  The ambience is good but the food is no...</td>\n",
       "      <td>2019</td>\n",
       "      <td>3</td>\n",
       "      <td>00:40:24</td>\n",
       "      <td>73</td>\n",
       "      <td>355</td>\n",
       "    </tr>\n",
       "    <tr>\n",
       "      <th>1296</th>\n",
       "      <td>2019-03-10 23:49:31</td>\n",
       "      <td>5.0</td>\n",
       "      <td>18544039</td>\n",
       "      <td>The Roastery Coffee House</td>\n",
       "      <td>39216844</td>\n",
       "      <td>Rameez Siddiqui</td>\n",
       "      <td>NaN</td>\n",
       "      <td>2019</td>\n",
       "      <td>3</td>\n",
       "      <td>23:49:31</td>\n",
       "      <td>164</td>\n",
       "      <td>1818</td>\n",
       "    </tr>\n",
       "    <tr>\n",
       "      <th>1297</th>\n",
       "      <td>2019-03-10 16:09:41</td>\n",
       "      <td>5.0</td>\n",
       "      <td>18544039</td>\n",
       "      <td>The Roastery Coffee House</td>\n",
       "      <td>494087</td>\n",
       "      <td>Prashant Laxman</td>\n",
       "      <td>RATED  The 4.8 rating drew me to this place. A...</td>\n",
       "      <td>2019</td>\n",
       "      <td>3</td>\n",
       "      <td>16:09:41</td>\n",
       "      <td>20</td>\n",
       "      <td>218</td>\n",
       "    </tr>\n",
       "    <tr>\n",
       "      <th>1298</th>\n",
       "      <td>2019-03-10 10:55:32</td>\n",
       "      <td>5.0</td>\n",
       "      <td>18544039</td>\n",
       "      <td>The Roastery Coffee House</td>\n",
       "      <td>32560419</td>\n",
       "      <td>That Biryani Gal</td>\n",
       "      <td>NaN</td>\n",
       "      <td>2019</td>\n",
       "      <td>3</td>\n",
       "      <td>10:55:32</td>\n",
       "      <td>217</td>\n",
       "      <td>848</td>\n",
       "    </tr>\n",
       "  </tbody>\n",
       "</table>\n",
       "</div>"
      ],
      "text/plain": [
       "                    date  rating    res_id                   res_name  \\\n",
       "1294 2019-03-16 08:57:44     5.0  18544039  The Roastery Coffee House   \n",
       "1295 2019-03-13 00:40:24     4.0  18544039  The Roastery Coffee House   \n",
       "1296 2019-03-10 23:49:31     5.0  18544039  The Roastery Coffee House   \n",
       "1297 2019-03-10 16:09:41     5.0  18544039  The Roastery Coffee House   \n",
       "1298 2019-03-10 10:55:32     5.0  18544039  The Roastery Coffee House   \n",
       "\n",
       "        rev_id           rev_name  \\\n",
       "1294  51111834      Mahmoud Shaik   \n",
       "1295  37216070  Srobanti Majumdar   \n",
       "1296  39216844    Rameez Siddiqui   \n",
       "1297    494087    Prashant Laxman   \n",
       "1298  32560419   That Biryani Gal   \n",
       "\n",
       "                                                   text  year  month  \\\n",
       "1294  RATED  It was my first time I was really hungr...  2019      3   \n",
       "1295  RATED  The ambience is good but the food is no...  2019      3   \n",
       "1296                                                NaN  2019      3   \n",
       "1297  RATED  The 4.8 rating drew me to this place. A...  2019      3   \n",
       "1298                                                NaN  2019      3   \n",
       "\n",
       "          time user_reviews user_followers  \n",
       "1294  08:57:44           16             13  \n",
       "1295  00:40:24           73            355  \n",
       "1296  23:49:31          164           1818  \n",
       "1297  16:09:41           20            218  \n",
       "1298  10:55:32          217            848  "
      ]
     },
     "execution_count": 31,
     "metadata": {},
     "output_type": "execute_result"
    }
   ],
   "source": [
    "df.head()"
   ]
  },
  {
   "cell_type": "code",
   "execution_count": 14,
   "metadata": {},
   "outputs": [
    {
     "name": "stdout",
     "output_type": "stream",
     "text": [
      "<class 'pandas.core.frame.DataFrame'>\n",
      "Int64Index: 167 entries, 1294 to 1460\n",
      "Data columns (total 12 columns):\n",
      "date              167 non-null datetime64[ns]\n",
      "rating            167 non-null object\n",
      "res_id            167 non-null int64\n",
      "res_name          167 non-null object\n",
      "rev_id            167 non-null int64\n",
      "rev_name          167 non-null object\n",
      "text              167 non-null object\n",
      "year              167 non-null int64\n",
      "month             167 non-null int64\n",
      "time              167 non-null object\n",
      "user_reviews      167 non-null object\n",
      "user_followers    94 non-null object\n",
      "dtypes: datetime64[ns](1), int64(4), object(7)\n",
      "memory usage: 17.0+ KB\n"
     ]
    }
   ],
   "source": [
    "df.info()"
   ]
  },
  {
   "cell_type": "code",
   "execution_count": 15,
   "metadata": {},
   "outputs": [],
   "source": [
    "df['rating'] = df['rating'].astype(float)"
   ]
  },
  {
   "cell_type": "code",
   "execution_count": 36,
   "metadata": {},
   "outputs": [],
   "source": [
    "df['user_reviews'].fillna('NA' ,inplace=True)"
   ]
  },
  {
   "cell_type": "markdown",
   "metadata": {},
   "source": [
    "---"
   ]
  },
  {
   "cell_type": "markdown",
   "metadata": {},
   "source": [
    "<h4> Restaurant Profiling - The Roastery Coffee House"
   ]
  },
  {
   "cell_type": "markdown",
   "metadata": {},
   "source": [
    "---"
   ]
  },
  {
   "cell_type": "code",
   "execution_count": 16,
   "metadata": {},
   "outputs": [
    {
     "data": {
      "text/html": [
       "<div>\n",
       "<style scoped>\n",
       "    .dataframe tbody tr th:only-of-type {\n",
       "        vertical-align: middle;\n",
       "    }\n",
       "\n",
       "    .dataframe tbody tr th {\n",
       "        vertical-align: top;\n",
       "    }\n",
       "\n",
       "    .dataframe thead th {\n",
       "        text-align: right;\n",
       "    }\n",
       "</style>\n",
       "<table border=\"1\" class=\"dataframe\">\n",
       "  <thead>\n",
       "    <tr style=\"text-align: right;\">\n",
       "      <th></th>\n",
       "      <th>date</th>\n",
       "      <th>rating</th>\n",
       "      <th>res_id</th>\n",
       "      <th>res_name</th>\n",
       "      <th>rev_id</th>\n",
       "      <th>rev_name</th>\n",
       "      <th>text</th>\n",
       "      <th>year</th>\n",
       "      <th>month</th>\n",
       "      <th>time</th>\n",
       "      <th>user_reviews</th>\n",
       "      <th>user_followers</th>\n",
       "    </tr>\n",
       "  </thead>\n",
       "  <tbody>\n",
       "    <tr>\n",
       "      <th>1294</th>\n",
       "      <td>2019-03-16 08:57:44</td>\n",
       "      <td>5.0</td>\n",
       "      <td>18544039</td>\n",
       "      <td>The Roastery Coffee House</td>\n",
       "      <td>51111834</td>\n",
       "      <td>Mahmoud Shaik</td>\n",
       "      <td>RATED  It was my first time I was really hungr...</td>\n",
       "      <td>2019</td>\n",
       "      <td>3</td>\n",
       "      <td>08:57:44</td>\n",
       "      <td>16</td>\n",
       "      <td>13</td>\n",
       "    </tr>\n",
       "    <tr>\n",
       "      <th>1295</th>\n",
       "      <td>2019-03-13 00:40:24</td>\n",
       "      <td>4.0</td>\n",
       "      <td>18544039</td>\n",
       "      <td>The Roastery Coffee House</td>\n",
       "      <td>37216070</td>\n",
       "      <td>Srobanti Majumdar</td>\n",
       "      <td>RATED  The ambience is good but the food is no...</td>\n",
       "      <td>2019</td>\n",
       "      <td>3</td>\n",
       "      <td>00:40:24</td>\n",
       "      <td>73</td>\n",
       "      <td>355</td>\n",
       "    </tr>\n",
       "  </tbody>\n",
       "</table>\n",
       "</div>"
      ],
      "text/plain": [
       "                    date  rating    res_id                   res_name  \\\n",
       "1294 2019-03-16 08:57:44     5.0  18544039  The Roastery Coffee House   \n",
       "1295 2019-03-13 00:40:24     4.0  18544039  The Roastery Coffee House   \n",
       "\n",
       "        rev_id           rev_name  \\\n",
       "1294  51111834      Mahmoud Shaik   \n",
       "1295  37216070  Srobanti Majumdar   \n",
       "\n",
       "                                                   text  year  month  \\\n",
       "1294  RATED  It was my first time I was really hungr...  2019      3   \n",
       "1295  RATED  The ambience is good but the food is no...  2019      3   \n",
       "\n",
       "          time user_reviews user_followers  \n",
       "1294  08:57:44           16             13  \n",
       "1295  00:40:24           73            355  "
      ]
     },
     "execution_count": 16,
     "metadata": {},
     "output_type": "execute_result"
    }
   ],
   "source": [
    "df.head(2)"
   ]
  },
  {
   "cell_type": "code",
   "execution_count": 38,
   "metadata": {
    "jupyter": {
     "source_hidden": true
    }
   },
   "outputs": [
    {
     "data": {
      "image/png": "[encoded data removed]",
      "text/plain": [
       "<Figure size 432x288 with 1 Axes>"
      ]
     },
     "metadata": {
      "needs_background": "light"
     },
     "output_type": "display_data"
    }
   ],
   "source": [
    "sns.barplot(df['month'][df['year']==2019] , df['user_reviews'] )\n",
    "plt.xlabel('Month')\n",
    "plt.ylabel('Total Reviews')\n",
    "plt.title('Total Reviews in 2019')\n",
    "plt.xticks([0,1,2],labels=['January','Feburary','March'])\n",
    "plt.show()"
   ]
  },
  {
   "cell_type": "code",
   "execution_count": 19,
   "metadata": {},
   "outputs": [
    {
     "data": {
      "image/png": "[encoded data removed]",
      "text/plain": [
       "<Figure size 432x288 with 1 Axes>"
      ]
     },
     "metadata": {
      "needs_background": "light"
     },
     "output_type": "display_data"
    }
   ],
   "source": [
    "sns.barplot(df['month'][df['year']==2019] , df['rating'] )\n",
    "plt.xlabel('Month')\n",
    "plt.ylabel('Average Rating')\n",
    "plt.title('Average Rating in 2019')\n",
    "plt.xticks([0,1,2],labels=['January','Feburary','March'])\n",
    "plt.show()"
   ]
  },
  {
   "cell_type": "markdown",
   "metadata": {},
   "source": [
    "<h5> Total 5-Star Ratings"
   ]
  },
  {
   "cell_type": "code",
   "execution_count": 20,
   "metadata": {},
   "outputs": [
    {
     "data": {
      "text/plain": [
       "99"
      ]
     },
     "execution_count": 20,
     "metadata": {},
     "output_type": "execute_result"
    }
   ],
   "source": [
    "df[df['rating']==5.0].count()[1]"
   ]
  },
  {
   "cell_type": "markdown",
   "metadata": {},
   "source": [
    "<h5> Ratings below 4.0"
   ]
  },
  {
   "cell_type": "code",
   "execution_count": 21,
   "metadata": {},
   "outputs": [
    {
     "data": {
      "text/plain": [
       "14"
      ]
     },
     "execution_count": 21,
     "metadata": {},
     "output_type": "execute_result"
    }
   ],
   "source": [
    "df[df['rating']<4].count()[1]"
   ]
  },
  {
   "cell_type": "code",
   "execution_count": 22,
   "metadata": {
    "jupyter": {
     "source_hidden": true
    }
   },
   "outputs": [
    {
     "data": {
      "text/plain": [
       "Text(0, 0.5, 'Reviews')"
      ]
     },
     "execution_count": 22,
     "metadata": {},
     "output_type": "execute_result"
    },
    {
     "data": {
      "image/png": "[encoded data removed]",
      "text/plain": [
       "<Figure size 432x288 with 1 Axes>"
      ]
     },
     "metadata": {
      "needs_background": "light"
     },
     "output_type": "display_data"
    }
   ],
   "source": [
    "df.resample('1m',on='date').size().plot()\n",
    "plt.grid(True)\n",
    "plt.title('Reviews per Month')\n",
    "plt.xlabel('Month')\n",
    "plt.ylabel('Reviews')"
   ]
  },
  {
   "cell_type": "code",
   "execution_count": 23,
   "metadata": {},
   "outputs": [],
   "source": [
    "df['text'][df['text']=='NA'] = np.NaN"
   ]
  },
  {
   "cell_type": "code",
   "execution_count": 29,
   "metadata": {},
   "outputs": [
    {
     "data": {
      "image/png": "[encoded data removed]",
      "text/plain": [
       "<Figure size 432x288 with 1 Axes>"
      ]
     },
     "metadata": {
      "needs_background": "light"
     },
     "output_type": "display_data"
    }
   ],
   "source": [
    "from wordcloud import WordCloud\n",
    "ip_string=' '.join(df['text'].str.replace('RATED',' ').dropna().to_list())\n",
    "\n",
    "wc=WordCloud(background_color='white').generate(ip_string.lower())\n",
    "plt.imshow(wc)\n",
    "plt.show()"
   ]
  },
  {
   "cell_type": "markdown",
   "metadata": {},
   "source": [
    "---"
   ]
  },
  {
   "cell_type": "markdown",
   "metadata": {},
   "source": [
    "## DashBoard"
   ]
  },
  {
   "cell_type": "markdown",
   "metadata": {},
   "source": [
    "![caption](ZomatoRestaurantProfiling.jpg)"
   ]
  },
  {
   "cell_type": "markdown",
   "metadata": {},
   "source": [
    "---"
   ]
  }
 ],
 "metadata": {
  "kernelspec": {
   "display_name": "Python 3",
   "language": "python",
   "name": "python3"
  },
  "language_info": {
   "codemirror_mode": {
    "name": "ipython",
    "version": 3
   },
   "file_extension": ".py",
   "mimetype": "text/x-python",
   "name": "python",
   "nbconvert_exporter": "python",
   "pygments_lexer": "ipython3",
   "version": "3.7.3"
  }
 },
 "nbformat": 4,
 "nbformat_minor": 4
}
